{
  "cells": [
    {
      "cell_type": "markdown",
      "metadata": {
        "id": "view-in-github",
        "colab_type": "text"
      },
      "source": [
        "<a href=\"https://colab.research.google.com/github/Oliverzera/ProjetoSweetBah/blob/main/Trabalho_Final_Prog_Linear.ipynb\" target=\"_parent\"><img src=\"https://colab.research.google.com/assets/colab-badge.svg\" alt=\"Open In Colab\"/></a>"
      ]
    },
    {
      "cell_type": "code",
      "source": [
        "pip install pymprog"
      ],
      "metadata": {
        "colab": {
          "base_uri": "https://localhost:8080/"
        },
        "id": "YwB8jUV3g8up",
        "outputId": "f4a44cef-eb09-4ae2-e517-257edaa919bc"
      },
      "execution_count": null,
      "outputs": [
        {
          "output_type": "stream",
          "name": "stdout",
          "text": [
            "Collecting pymprog\n",
            "  Downloading pymprog-1.1.2.tar.gz (44 kB)\n",
            "\u001b[?25l     \u001b[90m━━━━━━━━━━━━━━━━━━━━━━━━━━━━━━━━━━━━━━━━\u001b[0m \u001b[32m0.0/44.6 kB\u001b[0m \u001b[31m?\u001b[0m eta \u001b[36m-:--:--\u001b[0m\r\u001b[2K     \u001b[90m━━━━━━━━━━━━━━━━━━━━━━━━━━━━━━━━━━━━━━━━\u001b[0m \u001b[32m44.6/44.6 kB\u001b[0m \u001b[31m1.4 MB/s\u001b[0m eta \u001b[36m0:00:00\u001b[0m\n",
            "\u001b[?25h  Preparing metadata (setup.py) ... \u001b[?25l\u001b[?25hdone\n",
            "Collecting swiglpk>=1.4.4 (from pymprog)\n",
            "  Downloading swiglpk-5.0.10-cp310-cp310-manylinux_2_17_x86_64.manylinux2014_x86_64.whl (2.3 MB)\n",
            "\u001b[2K     \u001b[90m━━━━━━━━━━━━━━━━━━━━━━━━━━━━━━━━━━━━━━━━\u001b[0m \u001b[32m2.3/2.3 MB\u001b[0m \u001b[31m31.6 MB/s\u001b[0m eta \u001b[36m0:00:00\u001b[0m\n",
            "\u001b[?25hBuilding wheels for collected packages: pymprog\n",
            "  Building wheel for pymprog (setup.py) ... \u001b[?25l\u001b[?25hdone\n",
            "  Created wheel for pymprog: filename=pymprog-1.1.2-py3-none-any.whl size=43485 sha256=816752dc7103a592123e33ef1d932cb556bbbd4b59436fdd8f5e560b19d42edd\n",
            "  Stored in directory: /root/.cache/pip/wheels/f7/dc/68/18b668a7137dc2a1e5973c9c3c8543ddcce4daa09a3a8d94b0\n",
            "Successfully built pymprog\n",
            "Installing collected packages: swiglpk, pymprog\n",
            "Successfully installed pymprog-1.1.2 swiglpk-5.0.10\n"
          ]
        }
      ]
    },
    {
      "cell_type": "code",
      "source": [
        "from pymprog import *\n",
        "\n",
        "file = open('drive/MyDrive/Dados/inst_25_19.txt','r') # passar o caminho do arquivo smp como 'Dados/' e a instancia q vai usar.\n",
        "linhas_inst = file.readlines()\n",
        "\n",
        "# Dados de entrada\n",
        "H = [2,5,12,15,19,20,26] # Domingos e feriados no mês no estado de SP (em RP)\n",
        "N = int(linhas_inst[0])  # Número de funcionários\n",
        "L = int(linhas_inst[1]) # Número mínimo de funcionários em cada turno\n",
        "NF = 5 # Número de folgas do funcionário durante o mês\n",
        "M = 30 # Número de dias do mês\n",
        "FI = [] # Dias escolhidos para folga por cada funcionário\n",
        "\n",
        "for linha in linhas_inst[2:]:\n",
        "    valores = linha.split()\n",
        "    valores_int = [int(valor)-1 for valor in valores]\n",
        "    FI.append(valores_int)\n",
        "# --> Da linha 2 pra baixo, esse for aqui vai selecionar as informações de férias e adicionar em uma variavel 'valores_int'\n",
        "\n",
        "begin(\"folgas\") # Inicia um modelo\n",
        "\n",
        "# Variáveis de decisão\n",
        "Z = var(\"z\") # Z sao os dias que o funcionário solicita de folga\n",
        "A = iprod(range(N), range(M)) # Índices da variável x\n",
        "X = var(\"x\", A, bool) # Variável x\n",
        "\n",
        "# Função objetivo: queremos minimizar a quantidade de dias trabalhados dentro dos dias de folga do funcionario\n",
        "minimize(Z)\n",
        "\n",
        "#Restrição 1: Cada funcionário deve ter ao menos uma folga em domingos e feriados\n",
        "for i in range(N):\n",
        "  sum(X[i,j] for j in H) <= len(H)-1\n",
        "\n",
        "#Restrição 2: O turno precisa da quantidade mínima de funcionários trabalhando (>= L)\n",
        "for j in range(M):\n",
        "  sum(X[i,j] for i in range(N)) >= L\n",
        "\n",
        "#Restrição 3: Cada funcionário deve ter NF folgas (NF = 5)\n",
        "for i in range(N):\n",
        "  sum(X[i,j] for j in range(M)) == M-NF\n",
        "\n",
        "#Restrição 4: Cada funcionário não pode trabalhar mais do que 5 dias consecutivos\n",
        "for i in range(N):\n",
        "  for k in range(25):\n",
        "    sum(X[i,j] for j in range(k,k+6)) <= 5\n",
        "\n",
        "#Restrição 5: Busca atender o máximo possível de folgas dos funcionários nos dias solicitados.\n",
        "#sem essa restrição, ele dá folgas nos dias que achar melhor, não nos dias que foram solicitados\n",
        "for i in range(N):\n",
        "  sum(X[i,j] for j in FI[i]) <= Z\n",
        "\n",
        "# Solução\n",
        "solve()\n",
        "\n",
        "print('')\n",
        "print('Sobre o Resultado abaixo:\\n \\tQuando o funcionário trabalhou, então 1;' +\n",
        "      '\\n \\tCaso ele tenha folgado um dia comum, então 0;' +\n",
        "      '\\n \\tSe o funcionário folgar um dia que ele pediu folga, então veremos um +;' +\n",
        "      '\\n \\tCaso o funcionário tenha pedido a folga e conseguido, veremos um |; \\n')\n",
        "print(f'Domingos e feriados do mês Novembro/23: {H}')\n",
        "print(f'Número máximo de folgas não atendidas: {vobj():.0f}')\n",
        "\n",
        "for i in range(N):\n",
        "  print(f'Funcionário {i+1:2.0f} : ', end='')\n",
        "  for j in range(M):\n",
        "    if j not in FI[i]:\n",
        "      print(f'{int(X[i,j].primal)} ', end='')\n",
        "    else:\n",
        "      if round(X[i,j].primal) == 1:\n",
        "        print('| ', end='')\n",
        "      else:\n",
        "        print('+ ', end='')\n",
        "  print('')\n",
        "print('\\nNúmero de folgas atendidas')\n",
        "count = 1\n",
        "for i in range(N):\n",
        "  print(f'Funcionário {count:2.0f} = {(4 - sum(X[i,j].primal for j in FI[i])):.0f}')\n",
        "  count+=1\n",
        "\n",
        "#| Dia que o funcionário pediu a folga e teve que trabalhar\n",
        "# + Dia que o funcionario pediu a folga e conseguiu\n",
        "# 1 Trabalhou, 0 folgou"
      ],
      "metadata": {
        "colab": {
          "base_uri": "https://localhost:8080/"
        },
        "id": "YG30N9aAgDVe",
        "outputId": "1fc1eb06-1723-460f-9180-08b780cc67bd"
      },
      "execution_count": null,
      "outputs": [
        {
          "output_type": "stream",
          "name": "stdout",
          "text": [
            "\n",
            "Sobre o Resultado abaixo:\n",
            " \tQuando o funcionário trabalhou, então 1;\n",
            " \tCaso ele tenha folgado um dia comum, então 0;\n",
            " \tSe o funcionário folgar um dia que ele pediu folga, então veremos um +;\n",
            " \tCaso o funcionário tenha pedido a folga e conseguido, veremos um |; \n",
            "\n",
            "Domingos e feriados do mês Novembro/23: [2, 5, 12, 15, 19, 20, 26]\n",
            "Número máximo de folgas não atendidas: 3\n",
            "Funcionário  1 : | + 1 1 1 1 1 0 1 1 1 1 1 0 1 1 1 1 1 0 1 | 1 1 1 0 1 1 1 | \n",
            "Funcionário  2 : 0 1 1 1 | 1 + 1 1 1 1 1 0 1 1 1 1 1 0 1 1 1 1 1 + 1 1 | 1 1 \n",
            "Funcionário  3 : 1 0 1 | 1 1 1 0 | 1 1 1 1 0 1 1 | 1 1 + 1 1 1 1 1 0 1 1 1 1 \n",
            "Funcionário  4 : 1 1 | + 1 | 0 1 1 1 1 1 0 1 1 1 1 1 0 1 1 1 1 1 0 1 1 | 1 1 \n",
            "Funcionário  5 : 1 1 1 0 1 1 1 1 1 0 1 1 | 1 1 0 1 1 1 | 1 0 1 1 1 | 1 + 1 1 \n",
            "Funcionário  6 : 1 | 1 + 1 | | 1 1 0 1 1 1 1 1 0 1 1 1 1 1 0 1 1 1 1 1 0 1 1 \n",
            "Funcionário  7 : 1 1 1 1 1 + 1 1 1 1 0 1 | 1 1 0 1 1 1 1 1 0 | 1 1 1 1 0 | 1 \n",
            "Funcionário  8 : 1 1 | 0 1 1 1 1 0 1 1 1 1 1 0 1 1 1 1 1 0 1 | | 1 1 + 1 1 1 \n",
            "Funcionário  9 : 1 1 1 | 1 0 1 1 1 1 | 0 1 1 1 1 1 0 1 1 | 1 1 + 1 1 1 1 1 0 \n",
            "Funcionário 10 : 1 1 0 1 1 1 | 1 0 1 1 1 1 | 0 1 1 1 1 + 1 1 1 1 0 1 1 1 | 1 \n",
            "Funcionário 11 : | 1 | 0 1 1 1 1 0 1 1 1 1 1 + 1 | 1 1 0 1 1 1 1 1 0 1 1 1 1 \n",
            "Funcionário 12 : 1 1 | 1 1 0 1 1 1 1 1 0 | 1 1 | 0 1 1 1 + 1 1 1 1 1 0 1 1 1 \n",
            "Funcionário 13 : 1 1 | 1 0 1 1 | 1 1 0 1 1 1 1 1 + 1 1 1 0 1 1 1 1 1 0 1 | 1 \n",
            "Funcionário 14 : 1 0 1 1 | 1 1 + 1 1 1 1 1 0 1 1 | | 1 0 1 1 1 1 1 0 1 1 1 1 \n",
            "Funcionário 15 : 1 1 1 1 1 0 1 1 1 + 1 1 | 0 1 1 1 1 0 1 1 1 | 1 0 1 1 1 | 1 \n",
            "Funcionário 16 : 1 1 1 0 1 1 1 1 | 0 1 1 1 1 1 0 1 1 | 1 1 + 1 1 1 1 0 1 | 1 \n",
            "Funcionário 17 : 1 1 1 1 0 1 | 1 1 1 + 1 1 | 1 1 0 1 1 | 1 0 1 1 1 1 0 1 1 1 \n",
            "Funcionário 18 : 1 1 1 1 0 1 1 | 1 0 | 1 1 1 + 1 1 1 | 1 0 1 1 1 1 1 0 1 1 1 \n",
            "Funcionário 19 : + 1 1 1 1 1 + 1 1 1 1 1 0 1 1 1 1 1 0 1 1 1 | 1 0 1 1 1 | 1 \n",
            "Funcionário 20 : 1 1 1 1 1 + 1 1 | 1 + 1 1 1 1 | 0 1 1 1 1 1 0 1 1 1 1 0 1 1 \n",
            "Funcionário 21 : 1 1 | 1 0 1 1 1 0 1 1 1 1 1 + 1 1 1 1 1 + 1 1 1 1 0 | 1 1 1 \n",
            "Funcionário 22 : 1 1 1 | 0 | 1 1 1 + 1 1 1 1 1 0 1 1 1 1 1 0 1 1 | 1 1 0 1 1 \n",
            "Funcionário 23 : | 1 1 1 1 0 1 1 1 1 0 1 1 1 | 1 + 1 1 1 1 | 0 1 1 1 1 0 1 1 \n",
            "Funcionário 24 : 1 0 1 1 1 1 1 0 1 1 1 1 + 1 1 1 | 1 0 1 1 1 1 1 0 | 1 1 | 1 \n",
            "Funcionário 25 : 1 1 1 1 + 1 1 1 1 1 0 | 1 1 1 1 + 1 1 0 1 1 1 1 1 0 1 1 | 1 \n",
            "\n",
            "Número de folgas atendidas\n",
            "Funcionário  1 = 1\n",
            "Funcionário  2 = 2\n",
            "Funcionário  3 = 1\n",
            "Funcionário  4 = 1\n",
            "Funcionário  5 = 1\n",
            "Funcionário  6 = 1\n",
            "Funcionário  7 = 1\n",
            "Funcionário  8 = 1\n",
            "Funcionário  9 = 1\n",
            "Funcionário 10 = 1\n",
            "Funcionário 11 = 1\n",
            "Funcionário 12 = 1\n",
            "Funcionário 13 = 1\n",
            "Funcionário 14 = 1\n",
            "Funcionário 15 = 1\n",
            "Funcionário 16 = 1\n",
            "Funcionário 17 = 1\n",
            "Funcionário 18 = 1\n",
            "Funcionário 19 = 2\n",
            "Funcionário 20 = 2\n",
            "Funcionário 21 = 2\n",
            "Funcionário 22 = 1\n",
            "Funcionário 23 = 1\n",
            "Funcionário 24 = 1\n",
            "Funcionário 25 = 2\n"
          ]
        }
      ]
    },
    {
      "cell_type": "code",
      "source": [
        "from google.colab import drive\n",
        "drive.mount('/content/drive')"
      ],
      "metadata": {
        "id": "g_zMJ9OY2bLj",
        "colab": {
          "base_uri": "https://localhost:8080/"
        },
        "outputId": "3e1db9b4-6f74-4109-a37d-7c995154a38b"
      },
      "execution_count": null,
      "outputs": [
        {
          "output_type": "stream",
          "name": "stdout",
          "text": [
            "Mounted at /content/drive\n"
          ]
        }
      ]
    }
  ],
  "metadata": {
    "colab": {
      "provenance": [],
      "include_colab_link": true
    },
    "kernelspec": {
      "display_name": "Python 3",
      "name": "python3"
    },
    "language_info": {
      "name": "python"
    }
  },
  "nbformat": 4,
  "nbformat_minor": 0
}